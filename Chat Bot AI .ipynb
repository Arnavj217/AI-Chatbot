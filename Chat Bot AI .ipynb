{
 "cells": [
  {
   "cell_type": "code",
   "execution_count": 1,
   "id": "afe4b98e-cf15-412f-921c-b73ab092bc13",
   "metadata": {},
   "outputs": [
    {
     "name": "stdout",
     "output_type": "stream",
     "text": [
      "🤖 Hello! I'm ChatBot. Type 'exit' to end the chat.\n",
      "\n",
      "ChatBot: Hey there! How can I help you today?\n",
      "ChatBot: I'm ChatBot, your Python-powered assistant!\n",
      "ChatBot: I'm just code, but I'm functioning great! 😄\n",
      "ChatBot: Sure! Ask me anything about Python, tech, or just chat!\n",
      "ChatBot: Hmm, I didn't get that. Try asking something else.\n",
      "ChatBot: Goodbye! 👋\n"
     ]
    }
   ],
   "source": [
    "\n",
    "def chatbot():\n",
    "    print(\"🤖 Hello! I'm ChatBot. Type 'exit' to end the chat.\\n\")\n",
    "\n",
    "    while True:\n",
    "        user_input = input(\"You: \").lower()\n",
    "\n",
    "        if user_input == \"exit\":\n",
    "            print(\"ChatBot: Goodbye! 👋\")\n",
    "            break\n",
    "\n",
    "        elif \"hello\" in user_input or \"hi\" in user_input:\n",
    "            print(\"ChatBot: Hey there! How can I help you today?\")\n",
    "\n",
    "        elif \"your name\" in user_input:\n",
    "            print(\"ChatBot: I'm ChatBot, your Python-powered assistant!\")\n",
    "\n",
    "        elif \"how are you\" in user_input:\n",
    "            print(\"ChatBot: I'm just code, but I'm functioning great! 😄\")\n",
    "\n",
    "        elif \"help\" in user_input:\n",
    "            print(\"ChatBot: Sure! Ask me anything about Python, tech, or just chat!\")\n",
    "\n",
    "        else:\n",
    "            print(\"ChatBot: Hmm, I didn't get that. Try asking something else.\")\n",
    "\n",
    "chatbot()\n"
   ]
  }
 ],
 "metadata": {
  "kernelspec": {
   "display_name": "base",
   "language": "python",
   "name": "python3"
  },
  "language_info": {
   "codemirror_mode": {
    "name": "ipython",
    "version": 3
   },
   "file_extension": ".py",
   "mimetype": "text/x-python",
   "name": "python",
   "nbconvert_exporter": "python",
   "pygments_lexer": "ipython3",
   "version": "3.12.7"
  }
 },
 "nbformat": 4,
 "nbformat_minor": 5
}
